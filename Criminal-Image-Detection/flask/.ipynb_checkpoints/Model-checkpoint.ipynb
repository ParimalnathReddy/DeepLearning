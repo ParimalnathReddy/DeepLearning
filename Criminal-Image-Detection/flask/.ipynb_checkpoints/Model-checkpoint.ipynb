{
 "cells": [
  {
   "cell_type": "code",
   "execution_count": 1,
   "metadata": {},
   "outputs": [
    {
     "name": "stdout",
     "output_type": "stream",
     "text": [
      "Found 5741 images belonging to 4 classes.\n",
      "Found 1433 images belonging to 4 classes.\n",
      "Epoch 1/20\n",
      "180/180 [==============================] - 211s 1s/step - loss: 4.6637 - accuracy: 0.4447 - val_loss: 1.3208 - val_accuracy: 0.4459\n",
      "Epoch 2/20\n",
      "180/180 [==============================] - 166s 923ms/step - loss: 2.5269 - accuracy: 0.4515 - val_loss: 1.2721 - val_accuracy: 0.4459\n",
      "Epoch 3/20\n",
      "180/180 [==============================] - 166s 920ms/step - loss: 1.2511 - accuracy: 0.4553 - val_loss: 1.2361 - val_accuracy: 0.4459\n",
      "Epoch 4/20\n",
      "180/180 [==============================] - 166s 923ms/step - loss: 1.2205 - accuracy: 0.4553 - val_loss: 1.2117 - val_accuracy: 0.4459\n",
      "Epoch 5/20\n",
      "180/180 [==============================] - 169s 937ms/step - loss: 1.2000 - accuracy: 0.4553 - val_loss: 1.1958 - val_accuracy: 0.4459\n",
      "Epoch 6/20\n",
      "180/180 [==============================] - 167s 927ms/step - loss: 1.1866 - accuracy: 0.4553 - val_loss: 1.1856 - val_accuracy: 0.4459\n",
      "Epoch 7/20\n",
      "180/180 [==============================] - 167s 927ms/step - loss: 1.1780 - accuracy: 0.4553 - val_loss: 1.1790 - val_accuracy: 0.4459\n",
      "Epoch 8/20\n",
      "180/180 [==============================] - 165s 915ms/step - loss: 1.1727 - accuracy: 0.4553 - val_loss: 1.1750 - val_accuracy: 0.4459\n",
      "Epoch 9/20\n",
      "180/180 [==============================] - 165s 917ms/step - loss: 1.1693 - accuracy: 0.4553 - val_loss: 1.1724 - val_accuracy: 0.4459\n",
      "Epoch 10/20\n",
      "180/180 [==============================] - 169s 936ms/step - loss: 1.1673 - accuracy: 0.4553 - val_loss: 1.1709 - val_accuracy: 0.4459\n",
      "Epoch 11/20\n",
      "180/180 [==============================] - 166s 920ms/step - loss: 1.1659 - accuracy: 0.4553 - val_loss: 1.1699 - val_accuracy: 0.4459\n",
      "Epoch 12/20\n",
      "180/180 [==============================] - 167s 928ms/step - loss: 1.1651 - accuracy: 0.4553 - val_loss: 1.1692 - val_accuracy: 0.4459\n",
      "Epoch 13/20\n",
      "180/180 [==============================] - 162s 898ms/step - loss: 1.1646 - accuracy: 0.4553 - val_loss: 1.1688 - val_accuracy: 0.4459\n",
      "Epoch 14/20\n",
      "180/180 [==============================] - 127s 705ms/step - loss: 1.1643 - accuracy: 0.4553 - val_loss: 1.1687 - val_accuracy: 0.4459\n",
      "Epoch 15/20\n",
      "180/180 [==============================] - 129s 714ms/step - loss: 1.1641 - accuracy: 0.4553 - val_loss: 1.1685 - val_accuracy: 0.4459\n",
      "Epoch 16/20\n",
      "180/180 [==============================] - 127s 707ms/step - loss: 1.1640 - accuracy: 0.4553 - val_loss: 1.1684 - val_accuracy: 0.4459\n",
      "Epoch 17/20\n",
      "180/180 [==============================] - 130s 722ms/step - loss: 1.1639 - accuracy: 0.4553 - val_loss: 1.1684 - val_accuracy: 0.4459\n",
      "Epoch 18/20\n",
      "180/180 [==============================] - 138s 763ms/step - loss: 1.1639 - accuracy: 0.4553 - val_loss: 1.1684 - val_accuracy: 0.4459\n",
      "Epoch 19/20\n",
      "180/180 [==============================] - 127s 703ms/step - loss: 1.1638 - accuracy: 0.4553 - val_loss: 1.1684 - val_accuracy: 0.4459\n",
      "Epoch 20/20\n",
      "180/180 [==============================] - 131s 725ms/step - loss: 1.1638 - accuracy: 0.4553 - val_loss: 1.1684 - val_accuracy: 0.4459\n"
     ]
    }
   ],
   "source": [
    "import tensorflow as tf\n",
    "from keras.preprocessing.image import ImageDataGenerator\n",
    "from keras.models import Sequential\n",
    "from keras.layers import Dense, Dropout, Activation, Flatten\n",
    "from keras.layers import Conv2D, MaxPooling2D\n",
    "from tensorflow.keras.optimizers import RMSprop\n",
    "\n",
    "# Create a data generator object\n",
    "datagen = ImageDataGenerator(\n",
    "    rotation_range=40,\n",
    "    width_shift_range=0.2,\n",
    "    height_shift_range=0.2,\n",
    "    shear_range=0.2,\n",
    "    zoom_range=0.2,\n",
    "    horizontal_flip=True,\n",
    "    fill_mode='nearest')\n",
    "\n",
    "# Load and prepare the training data\n",
    "train_datagen = datagen.flow_from_directory(\n",
    "    'dataset/train', \n",
    "    target_size=(150, 150), \n",
    "    batch_size=32, \n",
    "    class_mode='categorical')\n",
    "\n",
    "# Load and prepare the test data\n",
    "test_datagen = ImageDataGenerator().flow_from_directory(\n",
    "    'dataset/test', \n",
    "    target_size=(150, 150), \n",
    "    batch_size=32, \n",
    "    class_mode='categorical')\n",
    "\n",
    "# Create the model\n",
    "model = Sequential()\n",
    "model.add(Conv2D(32, (3, 3), input_shape=(150, 150, 3)))\n",
    "model.add(Activation('relu'))\n",
    "model.add(MaxPooling2D(pool_size=(2, 2)))\n",
    "\n",
    "model.add(Conv2D(32, (3, 3)))\n",
    "model.add(Activation('relu'))\n",
    "model.add(MaxPooling2D(pool_size=(2, 2)))\n",
    "\n",
    "model.add(Conv2D(64, (3, 3)))\n",
    "model.add(Activation('relu'))\n",
    "model.add(MaxPooling2D(pool_size=(2, 2)))\n",
    "\n",
    "model.add(Flatten())\n",
    "model.add(Dense(64))\n",
    "model.add(Activation('relu'))\n",
    "model.add(Dropout(0.5))\n",
    "model.add(Dense(4))\n",
    "model.add(Activation('softmax'))\n",
    "\n",
    "model.compile(loss='categorical_crossentropy',\n",
    "              optimizer=RMSprop(),\n",
    "              metrics=['accuracy'])\n",
    "\n",
    "# Train the model\n",
    "history = model.fit(\n",
    "    train_datagen, \n",
    "    epochs=20, \n",
    "    validation_data=test_datagen)\n"
   ]
  },
  {
   "cell_type": "code",
   "execution_count": 3,
   "metadata": {},
   "outputs": [],
   "source": [
    "from matplotlib import pyplot as plt"
   ]
  },
  {
   "cell_type": "code",
   "execution_count": 4,
   "metadata": {},
   "outputs": [
    {
     "data": {
      "image/png": "[encoded data removed]",
      "text/plain": [
       "<Figure size 432x288 with 1 Axes>"
      ]
     },
     "metadata": {
      "needs_background": "light"
     },
     "output_type": "display_data"
    }
   ],
   "source": [
    "plt.plot(history.history['accuracy'])\n",
    "plt.plot(history.history['val_accuracy'])\n",
    "plt.title('model accuracy')\n",
    "plt.ylabel('accuracy')\n",
    "plt.xlabel('epoch')\n",
    "plt.legend(['train', 'test'], loc='upper left')\n",
    "plt.show()"
   ]
  },
  {
   "cell_type": "code",
   "execution_count": 5,
   "metadata": {},
   "outputs": [
    {
     "data": {
      "image/png": "[encoded data removed]",
      "text/plain": [
       "<Figure size 432x288 with 1 Axes>"
      ]
     },
     "metadata": {
      "needs_background": "light"
     },
     "output_type": "display_data"
    }
   ],
   "source": [
    "plt.plot(history.history['loss'])\n",
    "plt.plot(history.history['val_loss'])\n",
    "plt.title('model loss')\n",
    "plt.ylabel('loss')\n",
    "plt.xlabel('epoch')\n",
    "plt.legend(['train', 'test'], loc='upper left')\n",
    "plt.show()"
   ]
  },
  {
   "cell_type": "code",
   "execution_count": null,
   "metadata": {},
   "outputs": [],
   "source": []
  }
 ],
 "metadata": {
  "accelerator": "GPU",
  "colab": {
   "name": "Model_Training.ipynb",
   "provenance": []
  },
  "kernelspec": {
   "display_name": "Python 3 (ipykernel)",
   "language": "python",
   "name": "python3"
  },
  "language_info": {
   "codemirror_mode": {
    "name": "ipython",
    "version": 3
   },
   "file_extension": ".py",
   "mimetype": "text/x-python",
   "name": "python",
   "nbconvert_exporter": "python",
   "pygments_lexer": "ipython3",
   "version": "3.9.7"
  },
  "vscode": {
   "interpreter": {
    "hash": "36f9e1b585b16813c0b2f85a08ee7989cc3c4676cdd7ae438e526001f31868d7"
   }
  }
 },
 "nbformat": 4,
 "nbformat_minor": 1
}
